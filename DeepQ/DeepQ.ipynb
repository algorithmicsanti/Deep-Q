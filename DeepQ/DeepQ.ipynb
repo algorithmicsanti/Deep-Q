{
 "cells": [
  {
   "cell_type": "code",
   "execution_count": 23,
   "metadata": {},
   "outputs": [],
   "source": [
    "from torch import nn \n",
    "import torch \n",
    "import gym \n",
    "from collections import deque\n",
    "import itertools\n",
    "import numpy as np\n",
    "import random "
   ]
  },
  {
   "cell_type": "code",
   "execution_count": 24,
   "metadata": {},
   "outputs": [],
   "source": [
    "## Inicializar hyperparametros\n",
    "# Factor de descuento\n",
    "gamma = 0.99\n",
    "\n",
    "# Cantidad de transiciones de las que se hará un muestreo\n",
    "batch_size= 32\n",
    "\n",
    "# Máxima cantidad de transiciones guardadas\n",
    "buffer_size= 50000\n",
    "\n",
    "# minima cantidad de trnsiciones para computar gradientes y entrenar\n",
    "min_replay_size = 1000 \n",
    "\n",
    "# Inicio del Epsilon\n",
    "epsilon_start = 1\n",
    "epsilon_end = 0.02\n",
    "epsilon_decay=10000\n",
    "\n",
    "# Target update frecuency\n",
    "target_update_frecuency = 1000\n"
   ]
  },
  {
   "cell_type": "code",
   "execution_count": 25,
   "metadata": {},
   "outputs": [],
   "source": [
    "# Definir una clase con la red neuronal\n",
    "\n",
    "class Network(nn.Module):\n",
    "    def __init__(self, env):\n",
    "        super().__init__()\n",
    "        in_features = int(np.prod(env.observation_space.shape))\n",
    "        self.net = nn.Sequential(\n",
    "            nn.Linear(in_features, 64),\n",
    "            nn.Tanh(),\n",
    "            nn.Linear(64, env.action_space.n))\n",
    "    \n",
    "    def forward(self, x):\n",
    "        return self.net(x)\n",
    "    def act(self, obs):\n",
    "          obs_t = torch.as_tensor(obs, dtype = torch.float32)\n",
    "          q_values = self(obs_t.unsqueeze(0))\n",
    "\n",
    "          max_q_index = torch.argmax(q_values, dim=1)[0]\n",
    "          action = max_q_index.detach().item()\n",
    "\n",
    "          return action\n",
    "\n",
    "\n",
    "          pass\n",
    "        "
   ]
  },
  {
   "cell_type": "code",
   "execution_count": 26,
   "metadata": {},
   "outputs": [],
   "source": [
    "# Creación del ambiente\n",
    "env = gym.make('CartPole-v0')\n",
    "replay_buffer = deque(maxlen=buffer_size)\n",
    "rew_buffer = deque([0.0], maxlen=100)\n",
    "episode_reward = 0.0\n",
    "online_net = Network(env)\n",
    "target_net = Network(env)\n",
    "\n",
    "target_net.load_state_dict(online_net.state_dict())\n",
    "optimizer = torch.optim.Adam(online_net.parameters(), lr= 5e-4)"
   ]
  },
  {
   "cell_type": "code",
   "execution_count": 28,
   "metadata": {},
   "outputs": [
    {
     "ename": "AttributeError",
     "evalue": "'collections.deque' object has no attribute 'apppend'",
     "output_type": "error",
     "traceback": [
      "\u001b[1;31m---------------------------------------------------------------------------\u001b[0m",
      "\u001b[1;31mAttributeError\u001b[0m                            Traceback (most recent call last)",
      "\u001b[1;32m<ipython-input-28-c1297f441181>\u001b[0m in \u001b[0;36m<module>\u001b[1;34m\u001b[0m\n\u001b[0;32m      6\u001b[0m     \u001b[0mnew_obs\u001b[0m\u001b[1;33m,\u001b[0m \u001b[0mrew\u001b[0m\u001b[1;33m,\u001b[0m \u001b[0mdone\u001b[0m\u001b[1;33m,\u001b[0m \u001b[0minfo\u001b[0m\u001b[1;33m,\u001b[0m\u001b[0m_\u001b[0m \u001b[1;33m=\u001b[0m \u001b[0menv\u001b[0m\u001b[1;33m.\u001b[0m\u001b[0mstep\u001b[0m\u001b[1;33m(\u001b[0m\u001b[0maction\u001b[0m\u001b[1;33m)\u001b[0m\u001b[1;33m\u001b[0m\u001b[1;33m\u001b[0m\u001b[0m\n\u001b[0;32m      7\u001b[0m     \u001b[0mtransition\u001b[0m \u001b[1;33m=\u001b[0m \u001b[1;33m(\u001b[0m\u001b[0mobs\u001b[0m\u001b[1;33m,\u001b[0m \u001b[0maction\u001b[0m\u001b[1;33m,\u001b[0m \u001b[0mrew\u001b[0m\u001b[1;33m,\u001b[0m \u001b[0mdone\u001b[0m\u001b[1;33m,\u001b[0m \u001b[0mnew_obs\u001b[0m\u001b[1;33m)\u001b[0m\u001b[1;33m\u001b[0m\u001b[1;33m\u001b[0m\u001b[0m\n\u001b[1;32m----> 8\u001b[1;33m     \u001b[0mreplay_buffer\u001b[0m\u001b[1;33m.\u001b[0m\u001b[0mapppend\u001b[0m\u001b[1;33m(\u001b[0m\u001b[0mtransition\u001b[0m\u001b[1;33m)\u001b[0m\u001b[1;33m\u001b[0m\u001b[1;33m\u001b[0m\u001b[0m\n\u001b[0m\u001b[0;32m      9\u001b[0m     \u001b[0mobs\u001b[0m \u001b[1;33m=\u001b[0m \u001b[0mnew_obs\u001b[0m\u001b[1;33m\u001b[0m\u001b[1;33m\u001b[0m\u001b[0m\n\u001b[0;32m     10\u001b[0m     \u001b[1;32mif\u001b[0m \u001b[0mdone\u001b[0m\u001b[1;33m:\u001b[0m\u001b[1;33m\u001b[0m\u001b[1;33m\u001b[0m\u001b[0m\n",
      "\u001b[1;31mAttributeError\u001b[0m: 'collections.deque' object has no attribute 'apppend'"
     ]
    }
   ],
   "source": [
    "# Initialize Replay Buffer\n",
    "obs = env.reset()\n",
    "for _ in range (min_replay_size):\n",
    "    action = env.action_space.sample()\n",
    "\n",
    "    new_obs, rew, done, info,_ = env.step(action)\n",
    "    transition = (obs, action, rew, done, new_obs)\n",
    "    replay_buffer.apppend(transition)\n",
    "    obs = new_obs\n",
    "    if done:\n",
    "        obs = env.reset()"
   ]
  },
  {
   "cell_type": "code",
   "execution_count": null,
   "metadata": {},
   "outputs": [
    {
     "ename": "TypeError",
     "evalue": "'type' object is not iterable",
     "output_type": "error",
     "traceback": [
      "\u001b[1;31m---------------------------------------------------------------------------\u001b[0m",
      "\u001b[1;31mTypeError\u001b[0m                                 Traceback (most recent call last)",
      "\u001b[1;32m<ipython-input-22-20879d999931>\u001b[0m in \u001b[0;36m<module>\u001b[1;34m\u001b[0m\n\u001b[0;32m      2\u001b[0m \u001b[1;33m\u001b[0m\u001b[0m\n\u001b[0;32m      3\u001b[0m \u001b[0mobs\u001b[0m \u001b[1;33m=\u001b[0m \u001b[0menv\u001b[0m\u001b[1;33m.\u001b[0m\u001b[0mreset\u001b[0m\u001b[1;33m\u001b[0m\u001b[1;33m\u001b[0m\u001b[0m\n\u001b[1;32m----> 4\u001b[1;33m \u001b[1;32mfor\u001b[0m \u001b[0mstep\u001b[0m \u001b[1;32min\u001b[0m \u001b[0mitertools\u001b[0m\u001b[1;33m.\u001b[0m\u001b[0mcount\u001b[0m\u001b[1;33m:\u001b[0m\u001b[1;33m\u001b[0m\u001b[1;33m\u001b[0m\u001b[0m\n\u001b[0m\u001b[0;32m      5\u001b[0m     \u001b[0mepsilon\u001b[0m \u001b[1;33m=\u001b[0m \u001b[0mnp\u001b[0m\u001b[1;33m.\u001b[0m\u001b[0minterp\u001b[0m\u001b[1;33m(\u001b[0m\u001b[0mstep\u001b[0m\u001b[1;33m,\u001b[0m \u001b[1;33m[\u001b[0m\u001b[1;36m0\u001b[0m\u001b[1;33m,\u001b[0m \u001b[0mepsilon_decay\u001b[0m\u001b[1;33m]\u001b[0m\u001b[1;33m,\u001b[0m \u001b[1;33m[\u001b[0m\u001b[0mepsilon_start\u001b[0m\u001b[1;33m,\u001b[0m \u001b[0mepsilon_end\u001b[0m\u001b[1;33m]\u001b[0m\u001b[1;33m)\u001b[0m\u001b[1;33m\u001b[0m\u001b[1;33m\u001b[0m\u001b[0m\n\u001b[0;32m      6\u001b[0m     \u001b[0mrnd_sample\u001b[0m \u001b[1;33m=\u001b[0m \u001b[0mrandom\u001b[0m\u001b[1;33m.\u001b[0m\u001b[0mrandom\u001b[0m\u001b[1;33m\u001b[0m\u001b[1;33m\u001b[0m\u001b[0m\n",
      "\u001b[1;31mTypeError\u001b[0m: 'type' object is not iterable"
     ]
    }
   ],
   "source": [
    "# Main Training Loop\n",
    "\n",
    "obs = env.reset\n",
    "for step in itertools.count:\n",
    "    epsilon = np.interp(step, [0, epsilon_decay], [epsilon_start, epsilon_end])\n",
    "    rnd_sample = random.random\n",
    "    if rnd_sample <= epsilon:\n",
    "        action = env.action_space.sample()\n",
    "    else:\n",
    "        action = online_net.act(obs)\n",
    "\n",
    "    new_obs, rew, done, _ = env.step(action) \n",
    "    transition = (obs, action, rew, done, new_obs)\n",
    "    replay_buffer.append(transition)\n",
    "    obs = new_obs\n",
    "    episode_reward += rew\n",
    "\n",
    "    if done:\n",
    "        obs = env.reset()\n",
    "        rew_buffer.append(episode_reward)\n",
    "        episode_reward = 0.0"
   ]
  },
  {
   "cell_type": "code",
   "execution_count": null,
   "metadata": {},
   "outputs": [],
   "source": [
    "# Start Gradient Step\n",
    "transition = random.sample(replay_buffer, batch_size)\n",
    "obses = np.asarray([t[0] for t in transition])\n",
    "action = np.asarray([t[1] for t in transition])\n",
    "rews = np.asarray([t[2] for t in transition])\n",
    "dones = np.asarray([t[3] for t in transition])\n",
    "new_obses = np.asarray([t[4] for t in transition])\n",
    "\n",
    "\n",
    "obses_t = torch.as_tensor(obses, dtype = torch.float32).unsqueeze(-1)\n",
    "actions_t = torch.as_tensor(action, dtype = torch.float32).unsqueeze(-1)\n",
    "rews_t = torch.as_tensor(rews, dtype = torch.float32).unsqueeze(-1)\n",
    "dones_t = torch.as_tensor(dones, dtype = torch.float32).unsqueeze(-1)\n",
    "new_obses_t = torch.as_tensor(new_obs, dtype = torch.float32)\n",
    "\n"
   ]
  },
  {
   "cell_type": "code",
   "execution_count": null,
   "metadata": {},
   "outputs": [],
   "source": [
    "# Compute targets\n",
    "target_q_values = target_net(new_obses_t)\n",
    "max_target_q_values = target_q_values.max(dim = 1, keepdim = True)[0]\n",
    "target = rews_t + gamma"
   ]
  },
  {
   "cell_type": "code",
   "execution_count": null,
   "metadata": {},
   "outputs": [],
   "source": [
    "# Compute loss\n",
    "q_values = online_net(obses_t)\n",
    "action_q_values = torch.gather(input=q_values, dim = 1, index=actions_t)\n",
    "loss = nn.functional.smooth_l1_loss(action_q_values, target)"
   ]
  },
  {
   "cell_type": "code",
   "execution_count": null,
   "metadata": {},
   "outputs": [],
   "source": [
    "#Gradient Descent\n",
    "optimizer.zero_grad\n",
    "loss.backward()\n",
    "optimizer.step()\n",
    "\n",
    "# Update Target Network\n",
    "if step % target_update_frecuency == 0:\n",
    "    target_net.load_state_dict(online_net.state_dict())\n",
    "\n",
    "# Logging \n",
    "if step % 1000 == 0:\n",
    "    print()\n",
    "    print('Paso', step)\n",
    "    print('Avg rew', np.mean(rew_buffer))"
   ]
  }
 ],
 "metadata": {
  "kernelspec": {
   "display_name": "drl",
   "language": "python",
   "name": "python3"
  },
  "language_info": {
   "codemirror_mode": {
    "name": "ipython",
    "version": 3
   },
   "file_extension": ".py",
   "mimetype": "text/x-python",
   "name": "python",
   "nbconvert_exporter": "python",
   "pygments_lexer": "ipython3",
   "version": "3.6.13"
  },
  "orig_nbformat": 4
 },
 "nbformat": 4,
 "nbformat_minor": 2
}
